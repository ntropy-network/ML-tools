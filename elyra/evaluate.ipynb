{
 "cells": [
  {
   "cell_type": "code",
   "execution_count": null,
   "id": "df94c562-f3b3-4da0-8b4f-3bbb66fe917c",
   "metadata": {},
   "outputs": [],
   "source": [
    "!pip install ntropy-sdk pandas scikit-learn"
   ]
  },
  {
   "cell_type": "code",
   "execution_count": null,
   "id": "b50fd387-0d68-4e68-af6c-7063d152dd3f",
   "metadata": {},
   "outputs": [],
   "source": [
    "import json\n",
    "from sklearn.metrics import confusion_matrix\n",
    "import pandas as pd\n",
    "import pickle"
   ]
  },
  {
   "cell_type": "code",
   "execution_count": null,
   "id": "c81f0b29-6f6a-42fa-8587-32f1065ec024",
   "metadata": {},
   "outputs": [],
   "source": [
    "df_test = pd.read_csv(\"data/test.csv\")\n",
    "label_names = df_test.labels.unique().tolist()\n",
    "print(\"Got\", len(df_test), \"test samples with labels\", label_names)"
   ]
  },
  {
   "cell_type": "code",
   "execution_count": null,
   "id": "a4ea89cd-12af-44ec-96d4-f47a1cc9d26a",
   "metadata": {},
   "outputs": [],
   "source": [
    "with open(\"artifacts/model.pkl\", \"rb\") as model_file:\n",
    "    model = pickle.load(model_file)"
   ]
  },
  {
   "cell_type": "code",
   "execution_count": null,
   "id": "38753ee4-0de0-4fcd-836c-6badd345b2f7",
   "metadata": {},
   "outputs": [],
   "source": [
    "predictions = model.predict(df_test)"
   ]
  },
  {
   "cell_type": "code",
   "execution_count": null,
   "id": "83f7ef77-8409-4a9f-959d-b7d0afd55454",
   "metadata": {},
   "outputs": [],
   "source": [
    "metadata_outputs = []\n",
    "\n",
    "# Predictions table\n",
    "predictions_df = pd.DataFrame({\n",
    "    \"description\": df_test.description.tolist(),\n",
    "    \"prediction\": predictions,\n",
    "    \"label\": df_test.labels.tolist(),\n",
    "})\n",
    "\n",
    "metadata_outputs.append({\n",
    "    \"type\": \"table\",\n",
    "    \"storage\": \"inline\",\n",
    "    \"format\": \"csv\",\n",
    "    \"header\": predictions_df.columns.values.tolist(),\n",
    "    \"source\": predictions_df.to_csv(index=False, header=False),\n",
    "})\n",
    "\n",
    "# Confusion matrix\n",
    "cm = confusion_matrix(df_test.labels, predictions, labels=label_names)\n",
    "cm_rows = []\n",
    "for i, label_name_i in enumerate(label_names):\n",
    "    for j, label_name_j in enumerate(label_names):\n",
    "        cm_rows.append([label_name_i, label_name_j, cm[i, j]])\n",
    "cm_df = pd.DataFrame(cm_rows, columns=[\"target\", \"predicted\", \"count\"])\n",
    "cm_csv = cm_df.to_csv(header=False, index=False)\n",
    "\n",
    "metadata_outputs.append({\n",
    "    \"type\": \"confusion_matrix\",\n",
    "    \"format\": \"csv\",\n",
    "    \"labels\": label_names,\n",
    "    \"storage\": \"inline\",\n",
    "    \"source\": cm_csv,\n",
    "    \"schema\": [\n",
    "        {\n",
    "            \"name\": \"target\",\n",
    "            \"type\": \"CATEGORY\",\n",
    "        },\n",
    "        {\n",
    "            \"name\": \"predicted\",\n",
    "            \"type\": \"CATEGORY\",\n",
    "        },\n",
    "        {\n",
    "            \"name\": \"count\",\n",
    "            \"type\": \"NUMBER\",\n",
    "        },\n",
    "    ],\n",
    "})\n",
    "\n",
    "with open(\"mlpipeline-ui-metadata.json\", \"w\", encoding=\"utf-8\") as metadata_file:\n",
    "    json.dump({ \"outputs\": metadata_outputs }, metadata_file)"
   ]
  },
  {
   "cell_type": "code",
   "execution_count": null,
   "id": "3566ee67-cc6b-4c3d-8c80-0fb76c0c6632",
   "metadata": {},
   "outputs": [],
   "source": []
  }
 ],
 "metadata": {
  "kernelspec": {
   "display_name": "Python 3",
   "language": "python",
   "name": "python3"
  },
  "language_info": {
   "codemirror_mode": {
    "name": "ipython",
    "version": 3
   },
   "file_extension": ".py",
   "mimetype": "text/x-python",
   "name": "python",
   "nbconvert_exporter": "python",
   "pygments_lexer": "ipython3",
   "version": "3.8.10"
  }
 },
 "nbformat": 4,
 "nbformat_minor": 5
}
