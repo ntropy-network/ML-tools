{
 "cells": [
  {
   "cell_type": "code",
   "execution_count": null,
   "id": "e4590e6e-6c1a-411b-aa46-445b101b2eb4",
   "metadata": {},
   "outputs": [],
   "source": [
    "!mkdir data\n",
    "!wget https://ntropy-public-data.s3.us-east-2.amazonaws.com/blog/test.csv -P ./data/\n",
    "!wget https://ntropy-public-data.s3.us-east-2.amazonaws.com/blog/train.csv -P ./data/"
   ]
  }
 ],
 "metadata": {
  "kernelspec": {
   "display_name": "Python 3",
   "language": "python",
   "name": "python3"
  },
  "language_info": {
   "codemirror_mode": {
    "name": "ipython",
    "version": 3
   },
   "file_extension": ".py",
   "mimetype": "text/x-python",
   "name": "python",
   "nbconvert_exporter": "python",
   "pygments_lexer": "ipython3",
   "version": "3.8.10"
  }
 },
 "nbformat": 4,
 "nbformat_minor": 5
}
