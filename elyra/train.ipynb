{
 "cells": [
  {
   "cell_type": "code",
   "execution_count": null,
   "id": "ce6907a8-c813-47b3-b947-ba5d3aa8a529",
   "metadata": {},
   "outputs": [],
   "source": [
    "!pip install ntropy-sdk pandas scikit-learn ipywidgets"
   ]
  },
  {
   "cell_type": "code",
   "execution_count": null,
   "id": "f70652c9-5f8f-45ba-8d9a-f6c881ae1611",
   "metadata": {},
   "outputs": [],
   "source": [
    "import pandas as pd\n",
    "from ntropy_sdk.models import CustomTransactionClassifier\n",
    "import pickle\n",
    "import os\n",
    "from time import time_ns"
   ]
  },
  {
   "cell_type": "code",
   "execution_count": null,
   "id": "07d12197-3ca5-42c6-977e-bf65cb9ea282",
   "metadata": {},
   "outputs": [],
   "source": [
    "df_train = pd.read_csv(\"data/train.csv\").fillna(\"\")\n",
    "df_train"
   ]
  },
  {
   "cell_type": "code",
   "execution_count": null,
   "id": "deafc853-3a93-4886-94a2-9eecfbd5f49e",
   "metadata": {},
   "outputs": [],
   "source": [
    "os.environ[\"NTROPY_API_KEY\"] = \"replace me\"\n",
    "\n",
    "model = CustomTransactionClassifier(\n",
    "    f\"ntropy-elyra-demo-{time_ns()}\"\n",
    ")\n",
    "\n",
    "model.fit(df_train, df_train.labels)"
   ]
  },
  {
   "cell_type": "code",
   "execution_count": null,
   "id": "1002e3db-ba21-4c3d-aaac-0f2093213b9e",
   "metadata": {},
   "outputs": [],
   "source": [
    "os.makedirs(\"artifacts\", exist_ok=True)\n",
    "with open(\"artifacts/model.pkl\", \"wb\") as model_file:\n",
    "    pickle.dump(model, model_file)"
   ]
  },
  {
   "cell_type": "code",
   "execution_count": null,
   "id": "10cc3781-837e-4c9a-88e6-f71a8511dcf6",
   "metadata": {},
   "outputs": [],
   "source": []
  }
 ],
 "metadata": {
  "kernelspec": {
   "display_name": "Python 3",
   "language": "python",
   "name": "python3"
  },
  "language_info": {
   "codemirror_mode": {
    "name": "ipython",
    "version": 3
   },
   "file_extension": ".py",
   "mimetype": "text/x-python",
   "name": "python",
   "nbconvert_exporter": "python",
   "pygments_lexer": "ipython3",
   "version": "3.8.10"
  }
 },
 "nbformat": 4,
 "nbformat_minor": 5
}
